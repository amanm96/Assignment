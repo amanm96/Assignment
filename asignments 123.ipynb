{
 "cells": [
  {
   "cell_type": "markdown",
   "metadata": {},
   "source": [
    "# Assignment 1"
   ]
  },
  {
   "cell_type": "markdown",
   "metadata": {},
   "source": [
    "### 1.Install jupyter notebook and run the first program and share the screenshot"
   ]
  },
  {
   "cell_type": "markdown",
   "metadata": {},
   "source": [
    "###  2.Write a program which will find all such numbers which are divisible by 7 but are not multiple of 5 between 2000 and 3200. The numbers obtained should be printed in commas."
   ]
  },
  {
   "cell_type": "code",
   "execution_count": 1,
   "metadata": {},
   "outputs": [
    {
     "name": "stdout",
     "output_type": "stream",
     "text": [
      "2016 , 2044 , 2072 , 2128 , 2156 , 2184 , 2212 , 2268 , 2296 , 2324 , 2352 , 2408 , 2436 , 2464 , 2492 , 2548 , 2576 , 2604 , 2632 , 2688 , 2716 , 2744 , 2772 , 2828 , 2856 , 2884 , 2912 , 2968 , 2996 , 3024 , 3052 , 3108 , 3136 , 3164 , 3192 , "
     ]
    }
   ],
   "source": [
    "for i in range(2000,3205,4):\n",
    "    if(i%7==0) and (i%5!=0):\n",
    "        print(i,end=' , ')"
   ]
  },
  {
   "cell_type": "markdown",
   "metadata": {},
   "source": [
    "### 3.Write a python program to accept the users first name and last name and then printing them in reverse order with a space between first name and last name."
   ]
  },
  {
   "cell_type": "code",
   "execution_count": null,
   "metadata": {},
   "outputs": [],
   "source": [
    "n1=input(\"What is your first name?\")\n",
    "n2=input(\"What is your second name?\")\n",
    "print(n1[::-1],n2[::-1])"
   ]
  },
  {
   "cell_type": "markdown",
   "metadata": {},
   "source": [
    "###  4.Write a python program to find the volume of a sphere with diameter 12cm."
   ]
  },
  {
   "cell_type": "code",
   "execution_count": null,
   "metadata": {},
   "outputs": [],
   "source": [
    "pi=22/7\n",
    "d=12\n",
    "v=1/6*pi*d**3\n",
    "print(\"volume of a sphere\",v)"
   ]
  },
  {
   "cell_type": "markdown",
   "metadata": {},
   "source": [
    "# Assignment 2"
   ]
  },
  {
   "cell_type": "markdown",
   "metadata": {},
   "source": [
    "### 1 Write a python program which accepts a sequence of comma-separated numbers from console"
   ]
  },
  {
   "cell_type": "code",
   "execution_count": 5,
   "metadata": {},
   "outputs": [
    {
     "name": "stdout",
     "output_type": "stream",
     "text": [
      "Input some comma separated numbers:1,2,4\n",
      "List: ['1', '2', '4']\n"
     ]
    }
   ],
   "source": [
    "val=input(\"Input some comma separated numbers:\")\n",
    "list=val.split(\",\")\n",
    "print('List:',list)"
   ]
  },
  {
   "cell_type": "markdown",
   "metadata": {},
   "source": [
    "### 2. Pattern creation"
   ]
  },
  {
   "cell_type": "code",
   "execution_count": 6,
   "metadata": {},
   "outputs": [
    {
     "name": "stdout",
     "output_type": "stream",
     "text": [
      "* \n",
      "\n",
      "* * \n",
      "\n",
      "* * * \n",
      "\n",
      "* * * * \n",
      "\n",
      "* * * * * \n",
      "\n",
      "* * * * \n",
      "\n",
      "* * * \n",
      "\n",
      "* * \n",
      "\n",
      "* \n",
      "\n",
      "\n",
      "\n"
     ]
    }
   ],
   "source": [
    "def pettern(rows):\n",
    "    for i in range(0,rows,1):\n",
    "        for j in range(0,i+1):\n",
    "            print(\"*\",end=\" \")\n",
    "        print(\"\\n\") \n",
    "    for i in range(rows,0,-1):\n",
    "        for j in range(i-1,0,-1):\n",
    "            print(\"*\",end=\" \")\n",
    "        print(\"\\n\")\n",
    "pettern(5)"
   ]
  },
  {
   "cell_type": "markdown",
   "metadata": {},
   "source": [
    "### 3.Write a program in python to reverse a word after accepting input from the user"
   ]
  },
  {
   "cell_type": "code",
   "execution_count": 3,
   "metadata": {},
   "outputs": [
    {
     "name": "stdout",
     "output_type": "stream",
     "text": [
      "Enter your name:AMan\n",
      "naMA\n"
     ]
    }
   ],
   "source": [
    "s=input(\"Enter your name:\")\n",
    "print(s[::-1])"
   ]
  },
  {
   "cell_type": "markdown",
   "metadata": {},
   "source": [
    "### 4.Write a python program to print the given string in the format specified in the sample output"
   ]
  },
  {
   "cell_type": "code",
   "execution_count": 1,
   "metadata": {},
   "outputs": [
    {
     "name": "stdout",
     "output_type": "stream",
     "text": [
      "WE THE PEOPLE OF INDIA,\n",
      "            having solemnly resolved to costitute India into SOVEREIGN,!\n",
      "                   SOCIALIST,SECULAR,DEMOCRATIC\n",
      "                     REPUCBLIC and to secure to all its citizens\n"
     ]
    }
   ],
   "source": [
    "print(\"WE THE PEOPLE OF INDIA,\")\n",
    "print(\"            having solemnly resolved to costitute India into SOVEREIGN,!\")\n",
    "print(\"                   SOCIALIST,SECULAR,DEMOCRATIC\")\n",
    "print(\"                     REPUCBLIC and to secure to all its citizens\")"
   ]
  },
  {
   "cell_type": "markdown",
   "metadata": {},
   "source": [
    "# Assignment 3"
   ]
  },
  {
   "cell_type": "markdown",
   "metadata": {},
   "source": [
    "### 1.1Write a Python Program to implement your own myreduce() function which works exactly like python's built-in function reduce()"
   ]
  },
  {
   "cell_type": "code",
   "execution_count": 10,
   "metadata": {},
   "outputs": [
    {
     "name": "stdout",
     "output_type": "stream",
     "text": [
      "113\n"
     ]
    }
   ],
   "source": [
    "def myreducer(lst):\n",
    "    a=0\n",
    "    for i in lst:\n",
    "        a=a+i\n",
    "    print(a)\n",
    "myreducer(lst =[47,11,42,13])"
   ]
  },
  {
   "cell_type": "markdown",
   "metadata": {},
   "source": [
    "### 1.2Write a Python program to implement your own myfilter function which works exactly like Pyhthon's built in function filter()\n"
   ]
  },
  {
   "cell_type": "code",
   "execution_count": 13,
   "metadata": {},
   "outputs": [
    {
     "name": "stdout",
     "output_type": "stream",
     "text": [
      "[0, 2, 4, 6, 8, 10, 12, 14, 16, 18]\n"
     ]
    }
   ],
   "source": [
    "output=[]\n",
    "def myfilter(value):\n",
    "    for i in value:\n",
    "        if i%2==0:\n",
    "            output.append(i)\n",
    "    print(output)\n",
    "myfilter(value=range(20))"
   ]
  },
  {
   "cell_type": "markdown",
   "metadata": {},
   "source": [
    "### 2.Implement List comprehensions to produce the following lists.Write List comprehensions to produce the following Lists"
   ]
  },
  {
   "cell_type": "code",
   "execution_count": 16,
   "metadata": {},
   "outputs": [
    {
     "name": "stdout",
     "output_type": "stream",
     "text": [
      "['A', 'C', 'A', 'D', 'G', 'I', 'L', 'D']\n",
      "['x', 'xx', 'xxx', 'xxxx', 'y', 'yy', 'yyy', 'yyyy', 'z', 'zz', 'zzz', 'zzzz']\n",
      "['x', 'y', 'z', 'xx', 'yy', 'zz', 'xxx', 'yyy', 'zzz', 'xxxx', 'yyyy', 'zzzz']\n",
      "[[2], [3], [4], [3], [4], [5], [4], [5], [6], [2, 3, 4], [3, 4, 5], [4, 5, 6]]\n",
      "[(1, 1), (1, 2), (1, 3), (2, 1), (2, 2), (2, 3), (3, 1), (3, 2), (3, 3)]\n"
     ]
    }
   ],
   "source": [
    "inputs=(\"ACADGILD\")\n",
    "print(list(inputs))\n",
    "\n",
    "\n",
    "inputt=\"xyz\"\n",
    "lin=len(inputt)\n",
    "object=[]\n",
    "for i in range(lin):\n",
    "    for j in range(1,5):\n",
    "        object.append(inputt[i]*j)    \n",
    "print(object)\n",
    "\n",
    "\n",
    "e=[ i*j  for j in range(1,5,1) for i in ['x','y','z'] ]\n",
    "print (list(e))\n",
    "\n",
    "\n",
    "g=[[x+y] for x in range(2,5) for y in range(3)]\n",
    "h=[[x+y for x in range(2,5)] for y in range(3)]\n",
    "print(g+h)\n",
    "\n",
    "h=[(x,y)  for x in range(1,4) for y in range(1,4)]\n",
    "print(h)"
   ]
  },
  {
   "cell_type": "markdown",
   "metadata": {},
   "source": [
    "### 3.Implement a function longestWord() that takes a list of words and returns the longest one."
   ]
  },
  {
   "cell_type": "code",
   "execution_count": 4,
   "metadata": {},
   "outputs": [
    {
     "name": "stdout",
     "output_type": "stream",
     "text": [
      "acadgild\n"
     ]
    }
   ],
   "source": [
    "def find_longest_word(words_list):\n",
    "    word_len=[]\n",
    "    for n in words_list:\n",
    "        word_len.append((len(n), n))\n",
    "        word_len.sort()\n",
    "    return word_len[-1][1]\n",
    "print(find_longest_word([\"data\", \"acadgild\", \"Aman\"]))"
   ]
  },
  {
   "cell_type": "markdown",
   "metadata": {},
   "source": [
    "# Assignment 4"
   ]
  },
  {
   "cell_type": "markdown",
   "metadata": {},
   "source": [
    "### 1.1 Write a python program to find area of triangle using the formula area=(s**(s-a)**(s-b)**(s-c)***0.5.\n",
    "### Function to take input from user in the parent class and to find the area in the subclass."
   ]
  },
  {
   "cell_type": "code",
   "execution_count": 2,
   "metadata": {},
   "outputs": [
    {
     "name": "stdout",
     "output_type": "stream",
     "text": [
      "a=2\n",
      "b=3\n",
      "c=8\n",
      "Side a + Side b should be greator then Side c\n",
      "Perimeter= 6.5\n",
      "Area of Triangle= (7.574022160438669e-16+12.36931687685298j)\n"
     ]
    }
   ],
   "source": [
    "class Data:\n",
    "    def __init__(self,a,b,c):\n",
    "        self.a=a\n",
    "        self.b=b\n",
    "        self.c=c\n",
    "class Cal(Data):\n",
    "    def __init__(self,a,b,c):\n",
    "        Data.__init__(self,a,b,c)              \n",
    "        self.s=(self.a+self.b+self.c)/2 \n",
    "        self.area = int(self.s*(self.s-self.a)*(self.s-self.b)*(self.s-self.c))**0.5\n",
    "        if self.c>=(self.a+self.b):\n",
    "            print(\"Side a + Side b should be greator then Side c\")\n",
    "data=Cal(int(input(\"a=\")),int(input(\"b=\")),int(input(\"c=\")))\n",
    "print(\"Perimeter=\",data.s)\n",
    "print(\"Area of Triangle=\",data.area)"
   ]
  },
  {
   "cell_type": "markdown",
   "metadata": {},
   "source": [
    "### 1.2 Write a function filter_long_words() that takes a list of words and an integer n and returns the list of words that are longer than n."
   ]
  },
  {
   "cell_type": "code",
   "execution_count": 3,
   "metadata": {},
   "outputs": [
    {
     "name": "stdout",
     "output_type": "stream",
     "text": [
      "Enter words, separated by spaces: ww rrr ttttt\n",
      "Minimum length of words to keep: 3\n",
      "Words longer than 3 are rrr, ttttt.\n"
     ]
    }
   ],
   "source": [
    "def longwords(wordlist, length):\n",
    "    return (word for word in wordlist if len(word) >= length)\n",
    "\n",
    "def main():\n",
    "    words = input(\"Enter words, separated by spaces: \").split()\n",
    "    length = int(input(\"Minimum length of words to keep: \"))\n",
    "    print(\"Words longer than {} are {}.\".format(length,\n",
    "          ', '.join(longwords(words, length))))\n",
    "\n",
    "main()"
   ]
  },
  {
   "cell_type": "markdown",
   "metadata": {},
   "source": [
    "### 2.1 Write a python program using function concept that maps listof words into a list of integers representing the lengths of the corresponding words."
   ]
  },
  {
   "cell_type": "code",
   "execution_count": 1,
   "metadata": {},
   "outputs": [
    {
     "name": "stdout",
     "output_type": "stream",
     "text": [
      "[3, 6, 4]\n"
     ]
    }
   ],
   "source": [
    "def map_to_lengths_for(words):\n",
    "    lengths = []\n",
    "    for word in words:\n",
    "        lengths.append(len(word))\n",
    "    return lengths\n",
    "\n",
    "\n",
    "def map_to_lengths_map(words):\n",
    "    return map(len, words)\n",
    "\n",
    "\n",
    "def map_to_lengths_lists(words):\n",
    "    return [len(word) for word in words]\n",
    "\n",
    "\n",
    "if __name__ == \"__main__\":\n",
    "    words = ['abv', 'try me', 'test']\n",
    "    print (map_to_lengths_for(words))"
   ]
  },
  {
   "cell_type": "markdown",
   "metadata": {},
   "source": [
    "### 2.2 Write a Python function which takes a character(i.e a string of length 1) and returns True if it is a vowel,False otherwise."
   ]
  },
  {
   "cell_type": "code",
   "execution_count": 2,
   "metadata": {},
   "outputs": [
    {
     "name": "stdout",
     "output_type": "stream",
     "text": [
      "Enter the string to check\n",
      "a\n",
      "The enterted character is Vowel\n"
     ]
    }
   ],
   "source": [
    "def vowelChecker (inputChar):\n",
    " \n",
    "    if (inputChar == \"a\" or inputChar == \"A\" or\n",
    "     inputChar == \"e\" or inputChar == \"E\" or\n",
    "     inputChar == \"i\" or inputChar == \"I\" or\n",
    "     inputChar == \"o\" or inputChar == \"O\" or\n",
    "     inputChar == \"u\" or inputChar == \"U\"):\n",
    "        return \"True\"\n",
    "\n",
    "    else:\n",
    "        return \"False\"\n",
    "\n",
    "print (\"Enter the string to check\")\n",
    "inputChar = input()\n",
    " \n",
    "if vowelChecker(inputChar) == \"True\":\n",
    "    print(\"The enterted character is Vowel\")\n",
    "else:\n",
    "    print(\"The enterted character is not Vowel\")"
   ]
  },
  {
   "cell_type": "markdown",
   "metadata": {},
   "source": [
    "# Assignement 5"
   ]
  },
  {
   "cell_type": "markdown",
   "metadata": {},
   "source": [
    "### 1. Write a function to compute 5/0 and use try/except to catch the exception."
   ]
  },
  {
   "cell_type": "code",
   "execution_count": 4,
   "metadata": {},
   "outputs": [
    {
     "name": "stdout",
     "output_type": "stream",
     "text": [
      "operation done\n"
     ]
    }
   ],
   "source": [
    "def divide():\n",
    "    return 5/0\n",
    "\n",
    "try:\n",
    "    divide()\n",
    "except ZeroDivisionError as ze:\n",
    "    print(\"operation done\")\n",
    "except:\n",
    "    print(\"Any other exception\")"
   ]
  },
  {
   "cell_type": "markdown",
   "metadata": {},
   "source": [
    "### 2. Implement a Python program to generate all sentences where subject is in[\"Americans\",\"Indians\"] and verbs is in [\"Play\",\"watch\"] and the object is in [\"Baseball\",\"cricket\"]."
   ]
  },
  {
   "cell_type": "code",
   "execution_count": 4,
   "metadata": {},
   "outputs": [
    {
     "name": "stdout",
     "output_type": "stream",
     "text": [
      "Americans Play Baseball\n",
      "Americans Play cricket\n",
      "Americans watch Baseball\n",
      "Americans watch cricket\n",
      "Indians Play Baseball\n",
      "Indians Play cricket\n",
      "Indians watch Baseball\n",
      "Indians watch cricket\n"
     ]
    }
   ],
   "source": [
    "subject=[\"Americans\", \"Indians\"]\n",
    "verb=[\"Play\", \"watch\"]\n",
    "obj=[\"Baseball\",\"cricket\"]\n",
    "\n",
    "\n",
    "sentence_list = [(sub+\" \"+ vb + \" \" + ob) for sub in subject for vb in verb for ob in obj]\n",
    "for sentence in sentence_list:\n",
    "    print (sentence)"
   ]
  },
  {
   "cell_type": "code",
   "execution_count": null,
   "metadata": {},
   "outputs": [],
   "source": []
  }
 ],
 "metadata": {
  "kernelspec": {
   "display_name": "Python 3",
   "language": "python",
   "name": "python3"
  },
  "language_info": {
   "codemirror_mode": {
    "name": "ipython",
    "version": 3
   },
   "file_extension": ".py",
   "mimetype": "text/x-python",
   "name": "python",
   "nbconvert_exporter": "python",
   "pygments_lexer": "ipython3",
   "version": "3.7.3"
  }
 },
 "nbformat": 4,
 "nbformat_minor": 2
}
